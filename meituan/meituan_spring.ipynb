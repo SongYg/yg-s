{
 "nbformat": 4,
 "nbformat_minor": 2,
 "metadata": {
  "language_info": {
   "name": "python",
   "codemirror_mode": {
    "name": "ipython",
    "version": 3
   },
   "version": "3.7.3-final"
  },
  "orig_nbformat": 2,
  "file_extension": ".py",
  "mimetype": "text/x-python",
  "name": "python",
  "npconvert_exporter": "python",
  "pygments_lexer": "ipython3",
  "version": 3,
  "kernelspec": {
   "name": "python37364bitminiconda3conda048157a028f9403a8f7e57a6029271f7",
   "display_name": "Python 3.7.3 64-bit ('Miniconda3': conda)"
  }
 },
 "cells": [
  {
   "cell_type": "markdown",
   "metadata": {},
   "source": [
    "# 美团春招\n",
    "## 第2题：最好一样\n",
    "### 题目描述:\n",
    "给出一个序列包含n个正整数的序列A，然后给出一个正整数x，你可以对序列进行任意次操作的，每次操作你可以选择序列中的一个数字，让其与x做按位或运算。你的目的是让这个序列中的众数出现的次数最多。\n",
    "请问众数最多出现多少次。\n",
    "### \\[输入\\]\n",
    "输入第一行仅包含两个正整数n和x，表示给出的序列的长度和给定的正整数。\n",
    "(1<=n<=100000,1<=x<=1000)\n",
    "接下来一行有n个正整数，即这个序列，中介用空禄隔开，(1< =a_i<=1000)\n",
    "### \\[输出\\]\n",
    "输出仅包合一个正整数，去示众数最多出现的次数。\n",
    "### 样例\n",
    "#### 样例输入：\n",
    "```\n",
    "5 2\n",
    "3 1 3 2 5\n",
    "```\n",
    "#### 样例输出：\n",
    "```\n",
    "3\n",
    "```"
   ]
  },
  {
   "cell_type": "markdown",
   "metadata": {},
   "source": [
    "### 思路：  \n",
    "定义一个字典表示该值出现的个数，对每个值 `data[i]`，将字典中 `data[i]` 和 `data[i] | x` 的值加一，返回字典中最大值"
   ]
  },
  {
   "cell_type": "code",
   "execution_count": 4,
   "metadata": {},
   "outputs": [
    {
     "name": "stdout",
     "output_type": "stream",
     "text": "3\n"
    }
   ],
   "source": [
    "def solution(nums, x):\n",
    "    count = dict()\n",
    "    for num in nums:\n",
    "        count[num] = count.get(num, 0) + 1\n",
    "        if num != (num | x):\n",
    "            count[num | x] = count.get(num | x, 0) + 1\n",
    "    return max(count.values())\n",
    "\n",
    "\n",
    "def  test():\n",
    "    n, x = 5, 2\n",
    "    nums = [3, 1, 3, 2, 5]\n",
    "    print(solution(nums, x))\n",
    "\n",
    "\n",
    "test()\n",
    "\n",
    "\n",
    "# n, x = map(int, input().split())\n",
    "# nums = list(map(int, input().split()))\n",
    "# print(solution(nums, x))"
   ]
  },
  {
   "cell_type": "markdown",
   "metadata": {},
   "source": [
    "## 第3题\n",
    "### 题目描述:\n",
    "小美曾经有一个特殊的数组，这个数组的长度为n。但是她在打恐怖游戏的时候被吓得忘记了这个数组长什么样了。不过她还记得这个数组满足一些条件。首先这个数组的每个数的范围那在L和R之间。包括端点。\n",
    "除此之外，这个数组满足数组中的所有元素的和是k的倍数。\n",
    "但是这样的数组太多了，小美想知道有多少个这样的数组。你只需要告诉她在模`1e9+7`意义下的答案就行了。\n",
    "### \\[输入\\]\n",
    "一行四个整数n, k, L, R\n",
    "\n",
    "接下来一行有n个正整数，即这个序列，中介用空禄隔开，(1< =a_i<=1000)\n",
    "### \\[输出\\]\n",
    "输出一个数表示满足条件的数组的个数。\n",
    "### 样例\n",
    "#### 样例输入：\n",
    "```\n",
    "9 1 1 3\n",
    "```\n",
    "#### 样例输出：\n",
    "```\n",
    "19683\n",
    "```"
   ]
  },
  {
   "cell_type": "markdown",
   "metadata": {},
   "source": [
    "### 思路:dp \n",
    "* 状态：dp\\[i]\\[j] 表示 i 个数和模 k 为 j 的数组个数。\n",
    "* 状态转移方程：dp\\[i]\\[j] = dp\\[i-1]\\[jj] * num (num + jj) % k = j\n"
   ]
  },
  {
   "cell_type": "code",
   "execution_count": 5,
   "metadata": {},
   "outputs": [
    {
     "name": "stdout",
     "output_type": "stream",
     "text": "19683\n"
    }
   ],
   "source": [
    "def solution(n, k, L, R):\n",
    "    dp = [[0 for i in range(k)] for j in range(n)]\n",
    "\n",
    "    for j in range(k):\n",
    "        for num in range(L, R + 1):\n",
    "            if num % k == j:\n",
    "                dp[0][j] += 1\n",
    "    if n < 2:\n",
    "        return dp[0][0]\n",
    "    \n",
    "    big_n = int(1e9 + 7)\n",
    "    for i in range(1, n):\n",
    "        for j in range(k):\n",
    "            for jj in range(k):\n",
    "                dp[i][j] += dp[i-1][(k + j - jj) % k] * dp[0][jj]\n",
    "            dp[i][j] %= big_n\n",
    "    return dp[-1][0]\n",
    "            \n",
    "\n",
    "def test():\n",
    "    n, k, L, R = 9, 1, 1, 3\n",
    "    print(solution(n, k, L, R))\n",
    "\n",
    "test()\n",
    "\n",
    "# n, k, L, R = map(int, input().split())\n",
    "# print(solution(n, k, L, R))"
   ]
  },
  {
   "cell_type": "markdown",
   "metadata": {},
   "source": [
    "## 第4题：物资采购\n",
    "### 题目描述:\n",
    "公司要建厂投产一种产品，已知该产品共需要k种不同的原材料才能生产，而在这个工厂周围有n个可供建厂的地址，同时这n个位置都生产该产品所雳k种原材料中的一种，在这n个位置间存在一些通行的道路，我们可以视这些路的长度部为1，保证这些位置之间两两那是连通的。\n",
    "很显然工厂面临一个很严峻的问题，就是原料采集，我们定义采集一种原材料的花费为工厂所在位\n",
    "位置到最近的一个该材料的采集点的距离，在一个位置建厂的成本为k种原材料的采集花费之和，\n",
    "请你对每一个位置都求出其建厂的花费\n",
    "### \\[输入\\]\n",
    "输入第一行有三个正整数n, m, k，分别代表可供选择的建厂地址数呈，编号为从1到n，m这些地址之\n",
    "间的通路数量，k生产所需的原材料数量，编号为1到k。(1 <= n, m <=50000, 1 <= k <= 100)  \n",
    "输入第二行包含n个正整数，第 i 个正整数a_i表示第 i 个地址是第a_i种原料的采集点。(1<=ai<=k)  \n",
    "接下来有m行，每行有两个正整数 u，v，表示u号位置和v呈位置之间有一条连接的路径，可能存在重边或自环 (如样例所示)。\n",
    "### \\[输出\\]\n",
    "输出一行，空格隔开，每个数字表示在第i个位置简历工厂所需花费。\n",
    "### 样例\n",
    "#### 样例输入：\n",
    "```\n",
    "5 5 3\n",
    "1 2 2 3 2\n",
    "1 4\n",
    "2 4\n",
    "3 4\n",
    "4 5\n",
    "4 3\n",
    "```\n",
    "#### 样例输出：\n",
    "```\n",
    "3 3 3 2 3\n",
    "```"
   ]
  },
  {
   "cell_type": "markdown",
   "metadata": {},
   "source": [
    "### 思路：BFS寻路\n",
    "对于每个位置点，使用一个goods字典表示寻找到原材料i所需花费，使用BFS寻路，每次找到一个新的工厂，判断该工厂生产的原材料i是否已经在goods里，如果不再则加入。goods找到所有的原材料，即len(goods)=k时候，跳出BFS，然后goods.values()的和即所需花费。\n"
   ]
  },
  {
   "cell_type": "code",
   "execution_count": 9,
   "metadata": {},
   "outputs": [
    {
     "name": "stdout",
     "output_type": "stream",
     "text": "3 3 3 2 3\n"
    }
   ],
   "source": [
    "from collections import deque\n",
    "\n",
    "\n",
    "path = []\n",
    "a = []\n",
    "\n",
    "def calc_cost(pos, n, k):\n",
    "    goods = dict()\n",
    "    vis = [False for i in range(n)]\n",
    "    vis[pos] = True\n",
    "    goods[a[pos]] = 0\n",
    "    bfs = deque([pos, ])\n",
    "    cost = 0\n",
    "    while len(goods) < k and len(bfs) > 0:\n",
    "        length = len(bfs)\n",
    "        for i in range(length):\n",
    "            node = bfs.popleft()\n",
    "            if a[node] not in goods:\n",
    "                goods[a[node]] = cost\n",
    "            for x in range(n):\n",
    "                if path[node][x] and vis[x] == False:\n",
    "                    bfs.append(x)\n",
    "        cost += 1\n",
    "    return sum(goods.values())\n",
    "\n",
    "def solution(n, k):\n",
    "    res = []\n",
    "    for pos in range(n):\n",
    "        res.append(calc_cost(pos, n, k))\n",
    "    return res\n",
    "\n",
    "\n",
    "def test():\n",
    "    global path, a\n",
    "    n, m, k = 5, 5, 3\n",
    "    a = [1, 2, 2, 3, 2]\n",
    "    path = [[False for i in range(n)] for j in range(n)]\n",
    "    path_input = [[1, 4], [2, 4], [3, 4], [4, 5], [4, 3]]\n",
    "    for x in path_input:\n",
    "        i, j = x\n",
    "        i, j = i - 1, j - 1\n",
    "        path[i][j] = True\n",
    "        path[j][i] = True\n",
    "    res = solution(n, k)\n",
    "    print(' '.join(map(str, res)))\n",
    "\n",
    "test()\n",
    "\n",
    "# n, m, k = map(int, input().split())\n",
    "# a = list(map(int, input().split()))\n",
    "# path = [[False for i in range(n)] for j in range(n)]\n",
    "# for i in range(m):\n",
    "#     i, j = map(int, input().split())\n",
    "#     i, j = i - 1, j - 1\n",
    "#     path[i][j] = True\n",
    "#     path[j][i] = True\n",
    "# print(' '.join(map(str, res)))"
   ]
  },
  {
   "cell_type": "markdown",
   "metadata": {},
   "source": [
    "## 第5题：小仓的射击练习1\n",
    "### 题目描述：\n",
    "小仓酷爱射击运动。今天的小仓会进行N轮射击，已知第i次射击，她击中靶心的概率是a\\[i] -1 。\n",
    "\n",
    "小仓想知道N轮射击后，偏离靶心次数为 0 ,1 ,2 次的概率分别是多少。\n",
    "\n",
    "### \\[输入\\]\n",
    "第一行一个数N，代表射击轮数。 \n",
    "\n",
    "第二行 N个数a\\[i]，第 i个数为a\\[i]。\n",
    "\n",
    "1≤N≤100,000 \n",
    "\n",
    "1≤a\\[i\\]<998244353\n",
    "\n",
    "### \\[输出\\]\n",
    "不难证明答案可以表示成一个最简分数 p * q -1。\n",
    "\n",
    "你需要输出三个p * q -1 对 998244353取模后的结果，以此来表示偏离靶心次数为 0 , 1 , 2时的概率。\n",
    "\n",
    "其中q-1是q 在模意义下的逆元，满足q-1* q = 1 mod 998244353。\n",
    "\n",
    "例如1/4, 可以写成748683265，原因是4 * 748683265 % 998244353 = 1,也有且仅有x =  748683265，1 <= x < 998244353满足乘积等于1\n",
    "\n",
    "### 样例\n",
    "#### 样例输入\n",
    "```\n",
    "2\n",
    "2 2\n",
    "```\n",
    "#### 样例输出\n",
    "```\n",
    "748683265 499122177 748683265\n",
    "```"
   ]
  }
 ]
}