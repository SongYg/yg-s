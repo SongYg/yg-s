{
 "nbformat": 4,
 "nbformat_minor": 2,
 "metadata": {
  "language_info": {
   "name": "python",
   "codemirror_mode": {
    "name": "ipython",
    "version": 3
   },
   "version": "3.7.3-final"
  },
  "orig_nbformat": 2,
  "file_extension": ".py",
  "mimetype": "text/x-python",
  "name": "python",
  "npconvert_exporter": "python",
  "pygments_lexer": "ipython3",
  "version": 3,
  "kernelspec": {
   "name": "python37364bitminiconda3conda048157a028f9403a8f7e57a6029271f7",
   "display_name": "Python 3.7.3 64-bit ('Miniconda3': conda)"
  }
 },
 "cells": [
  {
   "cell_type": "markdown",
   "metadata": {},
   "source": [
    "# 300 Longest Increasing Subsequence\n",
    "## 题目描述\n",
    "<https://leetcode-cn.com/problems/binary-tree-level-order-traversal/>\n",
    "\n",
    "## 思路\n",
    "比较蠢的动态规划，算法时间复杂度 $O(n^2)$，空间复杂度 $O(n)$ \n",
    "* $dp[i]$ 表示从 i 个数开始的 $nums[i:]$ 子串的最长上升子序列长度，初始化都为1\n",
    "* 状态转移方程：\n",
    "    $dp[i] =\n",
    "      \\begin{cases}\n",
    "        \\max{\\{dp[i], dp[j]+1\\}}       & \\quad \\text{if } dp[i] < dp[j] \\\\\n",
    "        \\max{\\{dp[i], dp[j]\\}}  & \\quad \\text{if } dp[i] >= dp[j]\n",
    "      \\end{cases}$\n"
   ]
  },
  {
   "cell_type": "code",
   "execution_count": 4,
   "metadata": {},
   "outputs": [
    {
     "name": "stdout",
     "output_type": "stream",
     "text": "4\n"
    }
   ],
   "source": [
    "class Solution:\n",
    "    def lengthOfLIS(self, nums: list) -> int:\n",
    "        if not nums:\n",
    "            return 0\n",
    "        dp = [1 for i in nums]\n",
    "        for i in range(len(nums) - 2, -1, -1):\n",
    "            for j in range(i+1, len(nums)):\n",
    "                if nums[i] < nums[j]:\n",
    "                    dp[i] = max([dp[i], dp[j] + 1])\n",
    "        return max(dp)\n",
    "\n",
    "def test():\n",
    "    nums = [10,9,2,5,3,7,101,18]\n",
    "    s = Solution()\n",
    "    length = s.lengthOfLIS([10,9,2,5,3,7,101,18])\n",
    "    print(length)\n",
    "\n",
    "test()"
   ]
  },
  {
   "cell_type": "markdown",
   "metadata": {},
   "source": [
    "## 思路\n",
    "[leetcode官方解答](https://leetcode-cn.com/problems/longest-increasing-subsequence/solution/zui-chang-shang-sheng-zi-xu-lie-by-leetcode-soluti/)  \n",
    "\n",
    "贪心+二分查找  \n",
    "从左到右遍历数组，再定义一个数组 $d$ 表示到当前位置时最长上升子序列，且 $d[x]$ 满足在最长上升子序列上最小的，满足了两个贪心，一是最长上升子序列，一是值最小贪心。同时定义一个变量len，表示当前最长上升子序列长度，举个例子：对于$[0, 8, 4, 12, 2]$:\n",
    "* 遍历 0，$d$ 为 $[0]$\n",
    "* 遍历 8，$d$ 为 $[0, 8]$\n",
    "* 遍历 4，$d$ 为 $[0, 4]$\n",
    "* 遍历 12，$d$ 为 $[0, 4, 12]$\n",
    "* 遍历 2，$d$ 为 $[0, 2, 12]$\n",
    "\n",
    "从例子我们也可以知道 $d$ 的更新规则，初始化$d[0] = nums[0], len = 1$，遍历到元素$nums[i]$时：\n",
    "* 如果 $nums[i] > d[-1]$，向 $d$ 末尾增加元素 $nums[i]$ $len += 1$\n",
    "* 如果 $nums[i] < d[-1]$，从 $d$ 中找到第一个小于 $nums[i]$的元素 $d[k]$，更新 $d[k+1] = nums[i]$\n",
    "\n",
    "时间复杂度 $O(n^2)$，空间复杂度 $O(n)$\n"
   ]
  },
  {
   "cell_type": "code",
   "execution_count": 9,
   "metadata": {},
   "outputs": [
    {
     "name": "stdout",
     "output_type": "stream",
     "text": "4\n"
    }
   ],
   "source": [
    "class Solution:\n",
    "\n",
    "    def lengthOfLIS(self, nums: list) -> int:\n",
    "        if not nums:\n",
    "            return 0\n",
    "\n",
    "        def binSearch(d: list, target: int) -> int:\n",
    "            low, high = 0, len(d)\n",
    "            while low <= high:\n",
    "                mid = (low + high) // 2\n",
    "                if d[mid] > target:\n",
    "                    high = mid - 1\n",
    "                elif d[mid] < target:\n",
    "                    low = mid + 1\n",
    "                else:\n",
    "                    return mid\n",
    "            return high\n",
    "\n",
    "        d = [nums[0]]\n",
    "        length = 1\n",
    "        for i in range(1, len(nums)):\n",
    "            if nums[i] > d[length-1]:\n",
    "                length += 1\n",
    "                d.append(nums[i])\n",
    "            else:\n",
    "                k = binSearch(d, nums[i])\n",
    "                d[k + 1] = nums[i]\n",
    "        return len(d)\n",
    "\n",
    "def test():\n",
    "    nums = [10,9,2,5,3,7,101,18]\n",
    "    s = Solution()\n",
    "    length = s.lengthOfLIS([10,9,2,5,3,7,101,18])\n",
    "    print(length)\n",
    "\n",
    "test()"
   ]
  }
 ]
}