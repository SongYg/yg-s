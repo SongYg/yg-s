{
 "nbformat": 4,
 "nbformat_minor": 2,
 "metadata": {
  "language_info": {
   "name": "python",
   "codemirror_mode": {
    "name": "ipython",
    "version": 3
   },
   "version": "3.7.3-final"
  },
  "orig_nbformat": 2,
  "file_extension": ".py",
  "mimetype": "text/x-python",
  "name": "python",
  "npconvert_exporter": "python",
  "pygments_lexer": "ipython3",
  "version": 3,
  "kernelspec": {
   "name": "python37364bitminiconda3conda048157a028f9403a8f7e57a6029271f7",
   "display_name": "Python 3.7.3 64-bit ('Miniconda3': conda)"
  }
 },
 "cells": [
  {
   "cell_type": "markdown",
   "metadata": {},
   "source": [
    "# 常见的 top-K 算法\n",
    "Python 实现\n"
   ],
   "execution_count": null,
   "outputs": []
  },
  {
   "cell_type": "code",
   "execution_count": 1,
   "metadata": {},
   "outputs": [
    {
     "output_type": "execute_result",
     "data": {
      "text/plain": "3"
     },
     "metadata": {},
     "execution_count": 1
    }
   ],
   "source": [
    "# 基于排序的\n",
    "def sort_topk(nums, k):\n",
    "    if k > len(nums):\n",
    "        return None\n",
    "    nums.sort()\n",
    "    return nums[k-1]\n",
    "sort_topk([0, 9, 3, 4], 2)"
   ]
  },
  {
   "cell_type": "code",
   "execution_count": 2,
   "metadata": {},
   "outputs": [
    {
     "output_type": "execute_result",
     "data": {
      "text/plain": "3"
     },
     "metadata": {},
     "execution_count": 2
    }
   ],
   "source": [
    "# 部分排序\n",
    "def part_sort_topk(nums, k):\n",
    "    if k > len(nums):\n",
    "        return None\n",
    "\n",
    "    for i in range(len(nums)):\n",
    "        min_idx = i\n",
    "        for j in range(i + 1, len(nums)):\n",
    "            if nums[j] < nums[min_idx]:\n",
    "                min_idx = j\n",
    "        nums[i], nums[min_idx] = nums[min_idx], nums[i]\n",
    "        if i == k - 1:\n",
    "            return nums[i]\n",
    "    return None\n",
    "part_sort_topk([0, 9, 3, 4], 2)"
   ]
  },
  {
   "cell_type": "code",
   "execution_count": 4,
   "metadata": {},
   "outputs": [
    {
     "output_type": "execute_result",
     "data": {
      "text/plain": "3"
     },
     "metadata": {},
     "execution_count": 4
    }
   ],
   "source": [
    "# 基于堆的\n",
    "import heapq\n",
    "def heap_topk(nums, k):\n",
    "    if k > len(nums):\n",
    "        return None\n",
    "\n",
    "    heap = []\n",
    "    for i in range(len(nums)):\n",
    "        if i < k:\n",
    "            heapq.heappush(heap, -nums[i])\n",
    "        else:\n",
    "            if -nums[i] > heap[0]:\n",
    "                heapq.heapreplace(heap, -nums[i])\n",
    "    return -heap[0]\n",
    "heap_topk([0, 9, 3, 4], 2)         "
   ]
  }
 ]
}